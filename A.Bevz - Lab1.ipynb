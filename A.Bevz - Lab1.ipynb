{
 "cells": [
  {
   "cell_type": "markdown",
   "metadata": {},
   "source": [
    "# Lab1, Adriyan Bevz (id 004)"
   ]
  },
  {
   "cell_type": "markdown",
   "metadata": {},
   "source": [
    "## Task 1"
   ]
  },
  {
   "cell_type": "code",
   "execution_count": 1,
   "metadata": {},
   "outputs": [],
   "source": [
    "# Success indicator\n",
    "check <- function(seq, n) {\n",
    "  exists <- FALSE\n",
    "  for (i in 1:(n-2)) {\n",
    "    if (seq[i]==0 && seq[i+1]==0 && seq[i+2]==4) {\n",
    "      exists <- TRUE\n",
    "    }\n",
    "  }\n",
    "  return(exists)\n",
    "}"
   ]
  },
  {
   "cell_type": "code",
   "execution_count": 2,
   "metadata": {},
   "outputs": [],
   "source": [
    "iterate <- function(n, iterations) {\n",
    "  successes <- 0\n",
    "  for (it in 1:iterations) {\n",
    "    smpl <- sample(0:9, n, replace=T)\n",
    "    if (check(smpl, n)) {\n",
    "      successes <- successes + 1\n",
    "    }\n",
    "  }\n",
    "  return(successes)\n",
    "}"
   ]
  },
  {
   "cell_type": "code",
   "execution_count": 3,
   "metadata": {},
   "outputs": [
    {
     "name": "stdout",
     "output_type": "stream",
     "text": [
      "[1] 9.424\n",
      "[1] 17.965\n",
      "[1] 63.211\n"
     ]
    }
   ],
   "source": [
    "n1 <- 100\n",
    "n2 <- 200\n",
    "n3 <- 1000\n",
    "it <- 100000\n",
    "print(iterate(n1, it) * 100 / it)\n",
    "print(iterate(n2, it) * 100 / it)\n",
    "print(iterate(n3, it) * 100 / it)"
   ]
  },
  {
   "cell_type": "markdown",
   "metadata": {},
   "source": [
    "## Task 2"
   ]
  },
  {
   "cell_type": "code",
   "execution_count": 4,
   "metadata": {},
   "outputs": [],
   "source": [
    "# Counter\n",
    "count <- function(seq, n) {\n",
    "  entries <- 0\n",
    "  for (i in 1:(n-2)) {\n",
    "    if (seq[i]==0 && seq[i+1]==0 && seq[i+2]==4) {\n",
    "      entries <- entries + 1\n",
    "    }\n",
    "  }\n",
    "  return(entries)\n",
    "}"
   ]
  },
  {
   "cell_type": "code",
   "execution_count": 5,
   "metadata": {},
   "outputs": [],
   "source": [
    "iterate_count <- function(n, iterations) {\n",
    "  successes <- 0\n",
    "  for (it in 1:iterations) {\n",
    "    smpl <- sample(0:9, n, replace=T)\n",
    "    successes <- successes + count(smpl, n)\n",
    "  }\n",
    "  return(successes)\n",
    "}"
   ]
  },
  {
   "cell_type": "code",
   "execution_count": 7,
   "metadata": {},
   "outputs": [
    {
     "name": "stdout",
     "output_type": "stream",
     "text": [
      "[1] 0.09843\n",
      "[1] 0.19966\n",
      "[1] 0.99414\n"
     ]
    }
   ],
   "source": [
    "n1 <- 100\n",
    "n2 <- 200\n",
    "n3 <- 1000\n",
    "it <- 100000\n",
    "print(iterate_count(n1, it) / it)\n",
    "print(iterate_count(n2, it) / it)\n",
    "print(iterate_count(n3, it) / it)"
   ]
  },
  {
   "cell_type": "markdown",
   "metadata": {},
   "source": [
    "k<sub>n</sub> depends on n linearly"
   ]
  },
  {
   "cell_type": "markdown",
   "metadata": {},
   "source": [
    "## Task 3"
   ]
  },
  {
   "cell_type": "code",
   "execution_count": 20,
   "metadata": {},
   "outputs": [],
   "source": [
    "check_last <- function(seq) {\n",
    "    last <- length(seq)\n",
    "    return(seq[last-2]==0 && seq[last-1]==0 && seq[last]==4)\n",
    "}"
   ]
  },
  {
   "cell_type": "code",
   "execution_count": 23,
   "metadata": {},
   "outputs": [],
   "source": [
    "iterate_append <- function(iterations) {\n",
    "    len <- 0\n",
    "    for (it in 1:iterations) {\n",
    "        smpl <- sample(0:9, 3, replace=T)\n",
    "        while (!check_last(smpl)) {\n",
    "            smpl[length(smpl) + 1] <- sample(0:9, 1)\n",
    "        }\n",
    "        len <- len + length(smpl)\n",
    "    }\n",
    "    return(len)\n",
    "}"
   ]
  },
  {
   "cell_type": "code",
   "execution_count": 27,
   "metadata": {},
   "outputs": [
    {
     "name": "stdout",
     "output_type": "stream",
     "text": [
      "[1] 1038.416\n"
     ]
    }
   ],
   "source": [
    "it <- 1000\n",
    "print(iterate_append(it) / it)"
   ]
  },
  {
   "cell_type": "code",
   "execution_count": null,
   "metadata": {},
   "outputs": [],
   "source": []
  }
 ],
 "metadata": {
  "kernelspec": {
   "display_name": "R",
   "language": "R",
   "name": "ir"
  },
  "language_info": {
   "codemirror_mode": "r",
   "file_extension": ".r",
   "mimetype": "text/x-r-source",
   "name": "R",
   "pygments_lexer": "r",
   "version": "3.4.2"
  }
 },
 "nbformat": 4,
 "nbformat_minor": 2
}
